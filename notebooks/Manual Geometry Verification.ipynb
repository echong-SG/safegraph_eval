{
 "cells": [
  {
   "cell_type": "code",
   "execution_count": 26,
   "id": "cb9d867b-d98f-4b15-bacf-ef62528641f6",
   "metadata": {},
   "outputs": [
    {
     "name": "stdout",
     "output_type": "stream",
     "text": [
      "The autoreload extension is already loaded. To reload it, use:\n",
      "  %reload_ext autoreload\n"
     ]
    }
   ],
   "source": [
    "%load_ext autoreload\n",
    "%autoreload 2"
   ]
  },
  {
   "cell_type": "code",
   "execution_count": 1,
   "id": "e2eb48af-350e-4207-9fa9-6fa10885e7c4",
   "metadata": {},
   "outputs": [],
   "source": [
    "from safegraph_eval import ingest\n",
    "from safegraph_eval import geometry"
   ]
  },
  {
   "cell_type": "code",
   "execution_count": 2,
   "id": "ac5cfed2-92d5-4053-98f7-6867777ad4d8",
   "metadata": {},
   "outputs": [],
   "source": [
    "nested_dir = '/Users/eugene/Documents/Projects/safegraph_eval_dir/sample_data/zipped_core_geo/'\n",
    "\n",
    "sample = ingest.read_sg_shop_zipfile(nested_dir, return_supplemental_files = False)"
   ]
  },
  {
   "cell_type": "markdown",
   "id": "bfa5224d-c875-4d10-bd71-50d8fcaecf67",
   "metadata": {},
   "source": [
    "# Testing"
   ]
  },
  {
   "cell_type": "code",
   "execution_count": 5,
   "id": "606f35b1-f3f8-427a-a795-0330e7a9baf9",
   "metadata": {},
   "outputs": [
    {
     "data": {
      "text/html": [
       "<div style=\"width:100%;\"><div style=\"position:relative;width:100%;height:0;padding-bottom:60%;\"><span style=\"color:#565656\">Make this Notebook Trusted to load map: File -> Trust Notebook</span><iframe src=\"about:blank\" style=\"position:absolute;width:100%;height:100%;left:0;top:0;border:none !important;\" data-html=%3C%21DOCTYPE%20html%3E%0A%3Chead%3E%20%20%20%20%0A%20%20%20%20%3Cmeta%20http-equiv%3D%22content-type%22%20content%3D%22text/html%3B%20charset%3DUTF-8%22%20/%3E%0A%20%20%20%20%0A%20%20%20%20%20%20%20%20%3Cscript%3E%0A%20%20%20%20%20%20%20%20%20%20%20%20L_NO_TOUCH%20%3D%20false%3B%0A%20%20%20%20%20%20%20%20%20%20%20%20L_DISABLE_3D%20%3D%20false%3B%0A%20%20%20%20%20%20%20%20%3C/script%3E%0A%20%20%20%20%0A%20%20%20%20%3Cstyle%3Ehtml%2C%20body%20%7Bwidth%3A%20100%25%3Bheight%3A%20100%25%3Bmargin%3A%200%3Bpadding%3A%200%3B%7D%3C/style%3E%0A%20%20%20%20%3Cstyle%3E%23map%20%7Bposition%3Aabsolute%3Btop%3A0%3Bbottom%3A0%3Bright%3A0%3Bleft%3A0%3B%7D%3C/style%3E%0A%20%20%20%20%3Cscript%20src%3D%22https%3A//cdn.jsdelivr.net/npm/leaflet%401.6.0/dist/leaflet.js%22%3E%3C/script%3E%0A%20%20%20%20%3Cscript%20src%3D%22https%3A//code.jquery.com/jquery-1.12.4.min.js%22%3E%3C/script%3E%0A%20%20%20%20%3Cscript%20src%3D%22https%3A//maxcdn.bootstrapcdn.com/bootstrap/3.2.0/js/bootstrap.min.js%22%3E%3C/script%3E%0A%20%20%20%20%3Cscript%20src%3D%22https%3A//cdnjs.cloudflare.com/ajax/libs/Leaflet.awesome-markers/2.0.2/leaflet.awesome-markers.js%22%3E%3C/script%3E%0A%20%20%20%20%3Clink%20rel%3D%22stylesheet%22%20href%3D%22https%3A//cdn.jsdelivr.net/npm/leaflet%401.6.0/dist/leaflet.css%22/%3E%0A%20%20%20%20%3Clink%20rel%3D%22stylesheet%22%20href%3D%22https%3A//maxcdn.bootstrapcdn.com/bootstrap/3.2.0/css/bootstrap.min.css%22/%3E%0A%20%20%20%20%3Clink%20rel%3D%22stylesheet%22%20href%3D%22https%3A//maxcdn.bootstrapcdn.com/bootstrap/3.2.0/css/bootstrap-theme.min.css%22/%3E%0A%20%20%20%20%3Clink%20rel%3D%22stylesheet%22%20href%3D%22https%3A//maxcdn.bootstrapcdn.com/font-awesome/4.6.3/css/font-awesome.min.css%22/%3E%0A%20%20%20%20%3Clink%20rel%3D%22stylesheet%22%20href%3D%22https%3A//cdnjs.cloudflare.com/ajax/libs/Leaflet.awesome-markers/2.0.2/leaflet.awesome-markers.css%22/%3E%0A%20%20%20%20%3Clink%20rel%3D%22stylesheet%22%20href%3D%22https%3A//cdn.jsdelivr.net/gh/python-visualization/folium/folium/templates/leaflet.awesome.rotate.min.css%22/%3E%0A%20%20%20%20%0A%20%20%20%20%20%20%20%20%20%20%20%20%3Cmeta%20name%3D%22viewport%22%20content%3D%22width%3Ddevice-width%2C%0A%20%20%20%20%20%20%20%20%20%20%20%20%20%20%20%20initial-scale%3D1.0%2C%20maximum-scale%3D1.0%2C%20user-scalable%3Dno%22%20/%3E%0A%20%20%20%20%20%20%20%20%20%20%20%20%3Cstyle%3E%0A%20%20%20%20%20%20%20%20%20%20%20%20%20%20%20%20%23map_c826d51923a64bdd938b5084151a6bb0%20%7B%0A%20%20%20%20%20%20%20%20%20%20%20%20%20%20%20%20%20%20%20%20position%3A%20relative%3B%0A%20%20%20%20%20%20%20%20%20%20%20%20%20%20%20%20%20%20%20%20width%3A%20100.0%25%3B%0A%20%20%20%20%20%20%20%20%20%20%20%20%20%20%20%20%20%20%20%20height%3A%20100.0%25%3B%0A%20%20%20%20%20%20%20%20%20%20%20%20%20%20%20%20%20%20%20%20left%3A%200.0%25%3B%0A%20%20%20%20%20%20%20%20%20%20%20%20%20%20%20%20%20%20%20%20top%3A%200.0%25%3B%0A%20%20%20%20%20%20%20%20%20%20%20%20%20%20%20%20%7D%0A%20%20%20%20%20%20%20%20%20%20%20%20%3C/style%3E%0A%20%20%20%20%20%20%20%20%0A%20%20%20%20%0A%20%20%20%20%20%20%20%20%20%20%20%20%20%20%20%20%20%20%20%20%3Cstyle%3E%0A%20%20%20%20%20%20%20%20%20%20%20%20%20%20%20%20%20%20%20%20%20%20%20%20.foliumtooltip%20%7B%0A%20%20%20%20%20%20%20%20%20%20%20%20%20%20%20%20%20%20%20%20%20%20%20%20%20%20%20%20%0A%20%20%20%20%20%20%20%20%20%20%20%20%20%20%20%20%20%20%20%20%20%20%20%20%7D%0A%20%20%20%20%20%20%20%20%20%20%20%20%20%20%20%20%20%20%20%20%20%20%20.foliumtooltip%20table%7B%0A%20%20%20%20%20%20%20%20%20%20%20%20%20%20%20%20%20%20%20%20%20%20%20%20%20%20%20%20margin%3A%20auto%3B%0A%20%20%20%20%20%20%20%20%20%20%20%20%20%20%20%20%20%20%20%20%20%20%20%20%7D%0A%20%20%20%20%20%20%20%20%20%20%20%20%20%20%20%20%20%20%20%20%20%20%20%20.foliumtooltip%20tr%7B%0A%20%20%20%20%20%20%20%20%20%20%20%20%20%20%20%20%20%20%20%20%20%20%20%20%20%20%20%20text-align%3A%20left%3B%0A%20%20%20%20%20%20%20%20%20%20%20%20%20%20%20%20%20%20%20%20%20%20%20%20%7D%0A%20%20%20%20%20%20%20%20%20%20%20%20%20%20%20%20%20%20%20%20%20%20%20%20.foliumtooltip%20th%7B%0A%20%20%20%20%20%20%20%20%20%20%20%20%20%20%20%20%20%20%20%20%20%20%20%20%20%20%20%20padding%3A%202px%3B%20padding-right%3A%208px%3B%0A%20%20%20%20%20%20%20%20%20%20%20%20%20%20%20%20%20%20%20%20%20%20%20%20%7D%0A%20%20%20%20%20%20%20%20%20%20%20%20%20%20%20%20%20%20%20%20%3C/style%3E%0A%20%20%20%20%20%20%20%20%20%20%20%20%0A%3C/head%3E%0A%3Cbody%3E%20%20%20%20%0A%20%20%20%20%0A%20%20%20%20%20%20%20%20%20%20%20%20%3Cdiv%20class%3D%22folium-map%22%20id%3D%22map_c826d51923a64bdd938b5084151a6bb0%22%20%3E%3C/div%3E%0A%20%20%20%20%20%20%20%20%0A%3C/body%3E%0A%3Cscript%3E%20%20%20%20%0A%20%20%20%20%0A%20%20%20%20%20%20%20%20%20%20%20%20var%20map_c826d51923a64bdd938b5084151a6bb0%20%3D%20L.map%28%0A%20%20%20%20%20%20%20%20%20%20%20%20%20%20%20%20%22map_c826d51923a64bdd938b5084151a6bb0%22%2C%0A%20%20%20%20%20%20%20%20%20%20%20%20%20%20%20%20%7B%0A%20%20%20%20%20%20%20%20%20%20%20%20%20%20%20%20%20%20%20%20center%3A%20%5B38.905016%2C%20-104.821872%5D%2C%0A%20%20%20%20%20%20%20%20%20%20%20%20%20%20%20%20%20%20%20%20crs%3A%20L.CRS.EPSG3857%2C%0A%20%20%20%20%20%20%20%20%20%20%20%20%20%20%20%20%20%20%20%20zoom%3A%2019%2C%0A%20%20%20%20%20%20%20%20%20%20%20%20%20%20%20%20%20%20%20%20zoomControl%3A%20true%2C%0A%20%20%20%20%20%20%20%20%20%20%20%20%20%20%20%20%20%20%20%20preferCanvas%3A%20false%2C%0A%20%20%20%20%20%20%20%20%20%20%20%20%20%20%20%20%7D%0A%20%20%20%20%20%20%20%20%20%20%20%20%29%3B%0A%0A%20%20%20%20%20%20%20%20%20%20%20%20%0A%0A%20%20%20%20%20%20%20%20%0A%20%20%20%20%0A%20%20%20%20%20%20%20%20%20%20%20%20var%20tile_layer_f55a8f3a9c534e73926043e768471629%20%3D%20L.tileLayer%28%0A%20%20%20%20%20%20%20%20%20%20%20%20%20%20%20%20%22https%3A//%7Bs%7D.tile.openstreetmap.org/%7Bz%7D/%7Bx%7D/%7By%7D.png%22%2C%0A%20%20%20%20%20%20%20%20%20%20%20%20%20%20%20%20%7B%22attribution%22%3A%20%22Data%20by%20%5Cu0026copy%3B%20%5Cu003ca%20href%3D%5C%22http%3A//openstreetmap.org%5C%22%5Cu003eOpenStreetMap%5Cu003c/a%5Cu003e%2C%20under%20%5Cu003ca%20href%3D%5C%22http%3A//www.openstreetmap.org/copyright%5C%22%5Cu003eODbL%5Cu003c/a%5Cu003e.%22%2C%20%22detectRetina%22%3A%20false%2C%20%22maxNativeZoom%22%3A%2018%2C%20%22maxZoom%22%3A%2018%2C%20%22minZoom%22%3A%200%2C%20%22noWrap%22%3A%20false%2C%20%22opacity%22%3A%201%2C%20%22subdomains%22%3A%20%22abc%22%2C%20%22tms%22%3A%20false%7D%0A%20%20%20%20%20%20%20%20%20%20%20%20%29.addTo%28map_c826d51923a64bdd938b5084151a6bb0%29%3B%0A%20%20%20%20%20%20%20%20%0A%20%20%20%20%0A%20%20%20%20%20%20%20%20%20%20%20%20var%20tile_layer_2734f9e0e247400085fc8d052a18694d%20%3D%20L.tileLayer%28%0A%20%20%20%20%20%20%20%20%20%20%20%20%20%20%20%20%22https%3A//server.arcgisonline.com/ArcGIS/rest/services/World_Imagery/MapServer/tile/%7Bz%7D/%7By%7D/%7Bx%7D%22%2C%0A%20%20%20%20%20%20%20%20%20%20%20%20%20%20%20%20%7B%22attribution%22%3A%20%22Esri%22%2C%20%22detectRetina%22%3A%20false%2C%20%22maxNativeZoom%22%3A%2018%2C%20%22maxZoom%22%3A%2018%2C%20%22minZoom%22%3A%200%2C%20%22noWrap%22%3A%20false%2C%20%22opacity%22%3A%201%2C%20%22subdomains%22%3A%20%22abc%22%2C%20%22tms%22%3A%20false%7D%0A%20%20%20%20%20%20%20%20%20%20%20%20%29.addTo%28map_c826d51923a64bdd938b5084151a6bb0%29%3B%0A%20%20%20%20%20%20%20%20%0A%20%20%20%20%0A%20%20%20%20%20%20%20%20function%20geo_json_f6540066b4164a6fa3a63cfd1d772fd3_styler%28feature%29%20%7B%0A%20%20%20%20%20%20%20%20%20%20%20%20switch%28feature.id%29%20%7B%0A%20%20%20%20%20%20%20%20%20%20%20%20%20%20%20%20default%3A%0A%20%20%20%20%20%20%20%20%20%20%20%20%20%20%20%20%20%20%20%20return%20%7B%22color%22%3A%20%22red%22%2C%20%22fillOpacity%22%3A%200.7%2C%20%22weight%22%3A%200%7D%3B%0A%20%20%20%20%20%20%20%20%20%20%20%20%7D%0A%20%20%20%20%20%20%20%20%7D%0A%0A%20%20%20%20%20%20%20%20function%20geo_json_f6540066b4164a6fa3a63cfd1d772fd3_onEachFeature%28feature%2C%20layer%29%20%7B%0A%20%20%20%20%20%20%20%20%20%20%20%20layer.on%28%7B%0A%20%20%20%20%20%20%20%20%20%20%20%20%7D%29%3B%0A%20%20%20%20%20%20%20%20%7D%3B%0A%20%20%20%20%20%20%20%20var%20geo_json_f6540066b4164a6fa3a63cfd1d772fd3%20%3D%20L.geoJson%28null%2C%20%7B%0A%20%20%20%20%20%20%20%20%20%20%20%20%20%20%20%20onEachFeature%3A%20geo_json_f6540066b4164a6fa3a63cfd1d772fd3_onEachFeature%2C%0A%20%20%20%20%20%20%20%20%20%20%20%20%0A%20%20%20%20%20%20%20%20%20%20%20%20%20%20%20%20style%3A%20geo_json_f6540066b4164a6fa3a63cfd1d772fd3_styler%2C%0A%20%20%20%20%20%20%20%20%7D%29%3B%0A%0A%20%20%20%20%20%20%20%20function%20geo_json_f6540066b4164a6fa3a63cfd1d772fd3_add%20%28data%29%20%7B%0A%20%20%20%20%20%20%20%20%20%20%20%20geo_json_f6540066b4164a6fa3a63cfd1d772fd3%0A%20%20%20%20%20%20%20%20%20%20%20%20%20%20%20%20.addData%28data%29%0A%20%20%20%20%20%20%20%20%20%20%20%20%20%20%20%20.addTo%28map_c826d51923a64bdd938b5084151a6bb0%29%3B%0A%20%20%20%20%20%20%20%20%7D%0A%20%20%20%20%20%20%20%20%20%20%20%20geo_json_f6540066b4164a6fa3a63cfd1d772fd3_add%28%7B%22bbox%22%3A%20%5B-104.82289546888751%2C%2038.904453264128854%2C%20-104.8214524404375%2C%2038.905874687490424%5D%2C%20%22features%22%3A%20%5B%7B%22bbox%22%3A%20%5B-104.82289546888751%2C%2038.904453264128854%2C%20-104.8214524404375%2C%2038.905874687490424%5D%2C%20%22geometry%22%3A%20%7B%22coordinates%22%3A%20%5B%5B%5B-104.82289546888751%2C%2038.905778674473844%5D%2C%20%5B-104.82201838653964%2C%2038.905874687490424%5D%2C%20%5B-104.8219942466585%2C%2038.90570979549067%5D%2C%20%5B-104.82172602575702%2C%2038.90573692964352%5D%2C%20%5B-104.82162946623248%2C%2038.90514623766353%5D%2C%20%5B-104.82149803799075%2C%2038.905156673960256%5D%2C%20%5B-104.8214524404375%2C%2038.90488532974711%5D%2C%20%5B-104.82159191530627%2C%2038.90486863160781%5D%2C%20%5B-104.82156777542514%2C%2038.90473504635205%5D%2C%20%5B-104.82148730915469%2C%2038.9046766027236%5D%2C%20%5B-104.82158118647021%2C%2038.904601460844916%5D%2C%20%5B-104.8216509239046%2C%2038.90465155543954%5D%2C%20%5B-104.82167506378573%2C%2038.904626508146656%5D%2C%20%5B-104.82173675459308%2C%2038.90462442087185%5D%2C%20%5B-104.82171797912997%2C%2038.90451379521926%5D%2C%20%5B-104.82232684057635%2C%2038.904453264128854%5D%2C%20%5B-104.82235098045749%2C%2038.90457015170531%5D%2C%20%5B-104.82269698542041%2C%2038.90452423160895%5D%2C%20%5B-104.82289546888751%2C%2038.905778674473844%5D%5D%5D%2C%20%22type%22%3A%20%22Polygon%22%7D%2C%20%22id%22%3A%20%220%22%2C%20%22properties%22%3A%20%7B%22POI%22%3A%20%22Target%22%2C%20%22enclosed%22%3A%20false%2C%20%22includes_parking_lot%22%3A%20false%2C%20%22is_synthetic%22%3A%20false%2C%20%22location_names%22%3A%20%5B%22Costco%22%5D%2C%20%22location_names_sample%22%3A%20%5B%22Costco%22%5D%2C%20%22polygon_class%22%3A%20%22OWNED_POLYGON%22%2C%20%22polygon_wkt%22%3A%20%22POLYGON%20%28%28-104.82289546888751%2038.905778674473844%2C%20-104.82201838653964%2038.905874687490424%2C%20-104.8219942466585%2038.90570979549067%2C%20-104.82172602575702%2038.90573692964352%2C%20-104.82162946623248%2038.90514623766353%2C%20-104.82149803799075%2038.905156673960256%2C%20-104.8214524404375%2038.90488532974711%2C%20-104.82159191530627%2038.90486863160781%2C%20-104.82156777542514%2038.90473504635205%2C%20-104.82148730915469%2038.9046766027236%2C%20-104.82158118647021%2038.904601460844916%2C%20-104.8216509239046%2038.90465155543954%2C%20-104.82167506378573%2038.904626508146656%2C%20-104.82173675459308%2038.90462442087185%2C%20-104.82171797912997%2038.90451379521926%2C%20-104.82232684057635%2038.904453264128854%2C%20-104.82235098045749%2038.90457015170531%2C%20-104.82269698542041%2038.90452423160895%2C%20-104.82289546888751%2038.905778674473844%29%29%22%2C%20%22total_POI_count%22%3A%201%7D%2C%20%22type%22%3A%20%22Feature%22%7D%5D%2C%20%22type%22%3A%20%22FeatureCollection%22%7D%29%3B%0A%0A%20%20%20%20%20%20%20%20%0A%20%20%20%20%0A%20%20%20%20geo_json_f6540066b4164a6fa3a63cfd1d772fd3.bindTooltip%28%0A%20%20%20%20function%28layer%29%7B%0A%20%20%20%20let%20div%20%3D%20L.DomUtil.create%28%27div%27%29%3B%0A%20%20%20%20%0A%20%20%20%20let%20handleObject%20%3D%20feature%3D%3Etypeof%28feature%29%3D%3D%27object%27%20%3F%20JSON.stringify%28feature%29%20%3A%20feature%3B%0A%20%20%20%20let%20fields%20%3D%20%5B%22total_POI_count%22%2C%20%22location_names_sample%22%2C%20%22is_synthetic%22%2C%20%22polygon_class%22%2C%20%22enclosed%22%2C%20%22includes_parking_lot%22%5D%3B%0A%20%20%20%20let%20aliases%20%3D%20%5B%22total_POI_count%22%2C%20%22location_names_sample%22%2C%20%22is_synthetic%22%2C%20%22polygon_class%22%2C%20%22enclosed%22%2C%20%22includes_parking_lot%22%5D%3B%0A%20%20%20%20let%20table%20%3D%20%27%3Ctable%3E%27%20%2B%0A%20%20%20%20%20%20%20%20String%28%0A%20%20%20%20%20%20%20%20fields.map%28%0A%20%20%20%20%20%20%20%20%28v%2Ci%29%3D%3E%0A%20%20%20%20%20%20%20%20%60%3Ctr%3E%0A%20%20%20%20%20%20%20%20%20%20%20%20%3Cth%3E%24%7Baliases%5Bi%5D%7D%3C/th%3E%0A%20%20%20%20%20%20%20%20%20%20%20%20%0A%20%20%20%20%20%20%20%20%20%20%20%20%3Ctd%3E%24%7BhandleObject%28layer.feature.properties%5Bv%5D%29%7D%3C/td%3E%0A%20%20%20%20%20%20%20%20%3C/tr%3E%60%29.join%28%27%27%29%29%0A%20%20%20%20%2B%27%3C/table%3E%27%3B%0A%20%20%20%20div.innerHTML%3Dtable%3B%0A%20%20%20%20%0A%20%20%20%20return%20div%0A%20%20%20%20%7D%0A%20%20%20%20%2C%7B%22className%22%3A%20%22foliumtooltip%22%2C%20%22sticky%22%3A%20true%7D%29%3B%0A%20%20%20%20%20%20%20%20%20%20%20%20%20%20%20%20%20%20%20%20%20%0A%3C/script%3E onload=\"this.contentDocument.open();this.contentDocument.write(    decodeURIComponent(this.getAttribute('data-html')));this.contentDocument.close();\" allowfullscreen webkitallowfullscreen mozallowfullscreen></iframe></div></div>"
      ],
      "text/plain": [
       "<folium.folium.Map at 0x7ff840095850>"
      ]
     },
     "metadata": {},
     "output_type": "display_data"
    },
    {
     "name": "stdin",
     "output_type": "stream",
     "text": [
      "\n",
      "    Rate polygon from 1 to 7. \n",
      "    Add an optional comment after a comma. Example input: \"5, polygon extends into roadway.\"\n",
      "    Type \"quit\" to exit.\n",
      "     quit\n"
     ]
    }
   ],
   "source": [
    "reviewed_df = geometry.verify_POI_geometry(sample, basemap = 'esri_imagery')"
   ]
  },
  {
   "cell_type": "markdown",
   "id": "afaaf7fd-8b9b-481d-88ea-bae512d8973b",
   "metadata": {},
   "source": [
    "# Dev"
   ]
  },
  {
   "cell_type": "code",
   "execution_count": 30,
   "id": "315697f1-e7b8-47e7-823c-b75137912ecb",
   "metadata": {},
   "outputs": [],
   "source": [
    "import pandas as pd\n",
    "import geopandas as gpd\n",
    "import folium\n",
    "from shapely import wkt\n",
    "from shapely.geometry import LineString, shape\n",
    "import shapely.speedups\n",
    "shapely.speedups.enable()\n",
    "\n",
    "from IPython.display import clear_output"
   ]
  },
  {
   "cell_type": "code",
   "execution_count": 31,
   "id": "0cab8900-4d19-434d-9982-08c8e9ab5727",
   "metadata": {},
   "outputs": [],
   "source": [
    "def choose_most_recent_geometry(df, geometry_col = 'polygon_wkt', date_col = 'date_range_start'):\n",
    "    \n",
    "    if date_col in df.columns:\n",
    "        output = df.sort_values(by = date_col, na_position = 'first')\n",
    "        output = output.drop_duplicates('placekey', keep = 'last')\n",
    "    else:\n",
    "        output = df.drop_duplicates('placekey', keep = 'last')\n",
    "    \n",
    "    return output"
   ]
  },
  {
   "cell_type": "code",
   "execution_count": 32,
   "id": "a74ee424-e430-438c-b977-619ca57a0d5a",
   "metadata": {},
   "outputs": [],
   "source": [
    "def make_geometry(df, geometry_col = 'polygon_wkt', crs = 'EPSG:4326'):\n",
    "    \n",
    "    output = gpd.GeoDataFrame(df, geometry = gpd.GeoSeries.from_wkt(df[geometry_col]), crs = crs)\n",
    "    \n",
    "    return output"
   ]
  },
  {
   "cell_type": "code",
   "execution_count": 33,
   "id": "2d94519c-283e-45fb-bbd9-92cd69a2dc8a",
   "metadata": {},
   "outputs": [],
   "source": [
    "def choose_poi_and_neighbors(gdf, placekey, neighbor_radius, projection = 'EPSG:3857'):\n",
    "    \n",
    "    # classify Neighbors v. Target POI\n",
    "    gdf['POI'] = 'Neighbor'\n",
    "    gdf.loc[gdf['placekey'] == placekey, 'POI'] = 'Target'\n",
    "    \n",
    "    # transform to a projected coordinate reference system\n",
    "    gdf_proj = gdf.to_crs(projection)\n",
    "    \n",
    "    # get the buffer for filtering neighbors\n",
    "    target = gdf_proj.loc[gdf_proj['POI'] == 'Target']\n",
    "    target_buffer = target.geometry.buffer(neighbor_radius)\n",
    "    \n",
    "    # find the neighbors\n",
    "    output_proj = gdf_proj.loc[gdf_proj.intersects(target_buffer.unary_union)]\n",
    "    \n",
    "    # transform back to original coordinate reference system\n",
    "    output = output_proj.to_crs(gdf.crs)\n",
    "    \n",
    "    return output\n",
    "    "
   ]
  },
  {
   "cell_type": "code",
   "execution_count": 69,
   "id": "5053d360-281d-4348-af66-21009bec4b0f",
   "metadata": {},
   "outputs": [],
   "source": [
    "def map_poi_and_neighbors(map_df, basemap = 'ESRI_imagery'):\n",
    "    \n",
    "    # center map\n",
    "    center = map_df.loc[map_df['POI'] == 'Target']\n",
    "    \n",
    "    # map_df = map_df.sort_values('POI', ascending = True).drop_duplicates(['geometry', 'is_synthetic', 'polygon_class', 'enclosed', 'includes_parking_lot', 'POI'], keep = 'first')\n",
    "    \n",
    "    map_df_grouped = map_df.groupby(['polygon_wkt', 'is_synthetic', 'polygon_class', 'enclosed', 'includes_parking_lot'])['location_name'].apply(list).reset_index(name = 'location_names')\n",
    "    map_df_grouped['location_names_sample'] = map_df_grouped['location_names'].str[:3]\n",
    "    map_df_grouped['total_POI_count'] = map_df_grouped['location_names'].apply(len)\n",
    "    map_df_grouped = map_df_grouped.merge(map_df.loc[map_df['POI'] == 'Target'][['polygon_wkt', 'POI']], on = 'polygon_wkt', how = 'outer')\n",
    "    map_df_grouped.loc[map_df_grouped['POI'].isnull(), 'POI'] = 'Neighbor'\n",
    "    \n",
    "    map_df_grouped = gpd.GeoDataFrame(map_df_grouped, geometry = gpd.GeoSeries.from_wkt(map_df_grouped['polygon_wkt']), crs = 'EPSG:4326')\n",
    "    \n",
    "    # initialize map\n",
    "    if basemap.lower() == 'esri_imagery':\n",
    "        map_ = folium.Map(location = [center[\"latitude\"], center[\"longitude\"]], zoom_start = 19)\n",
    "        \n",
    "        tile  = folium.TileLayer(\n",
    "            tiles = 'https://server.arcgisonline.com/ArcGIS/rest/services/World_Imagery/MapServer/tile/{z}/{y}/{x}',\n",
    "            attr = 'Esri',\n",
    "            name = 'Esri Satellite',\n",
    "            overlay = False,\n",
    "            control = True\n",
    "           ).add_to(map_)\n",
    "        \n",
    "    elif basemap.lower() == 'osm':\n",
    "        map_ = folium.Map(location = [center[\"latitude\"], center[\"longitude\"]], zoom_start = 19, tiles = 'OpenStreetMap')\n",
    "    \n",
    "    \n",
    "    # tool tip list\n",
    "    tool_tip_cols = ['total_POI_count', 'location_names_sample', 'is_synthetic', 'polygon_class', 'enclosed', 'includes_parking_lot']\n",
    "    \n",
    "    # draw map\n",
    "    folium.GeoJson(\n",
    "        map_df_grouped,\n",
    "        style_function = lambda x: {\n",
    "            'weight':0,\n",
    "            'color':'red' if x['properties']['POI'] == 'Target' else 'blue',\n",
    "            'fillOpacity': 0.7 if x['properties']['POI'] == 'Target' else 0.2,\n",
    "        },\n",
    "        tooltip = folium.features.GeoJsonTooltip(\n",
    "            fields = tool_tip_cols\n",
    "        )\n",
    "    ).add_to(map_)\n",
    "    \n",
    "    return map_"
   ]
  },
  {
   "cell_type": "code",
   "execution_count": 70,
   "id": "c950f9ae-e8fa-448f-9c70-30a33340c172",
   "metadata": {},
   "outputs": [],
   "source": [
    "# main function\n",
    "def verify_POI_geometry(df, placekeys = None, basemap = 'ESRI_imagery', neighbor_radius = 50, geometry_col = 'polygon_wkt'):\n",
    "    \n",
    "    df = choose_most_recent_geometry(df, geometry_col = geometry_col, date_col = 'date_range_start')\n",
    "    gdf = make_geometry(df, geometry_col = geometry_col)\n",
    "    \n",
    "    # map\n",
    "    output_pks = []\n",
    "    ratings = []\n",
    "    comments = []\n",
    "    \n",
    "    prompt = '''\n",
    "    Rate polygon from 1 to 7. \n",
    "    Add an optional comment after a comma. Example input: \"5, polygon extends into roadway.\"\n",
    "    Type \"quit\" to exit.\n",
    "    '''\n",
    "    \n",
    "    if placekeys is None:\n",
    "        placekeys = list(df['placekey'])\n",
    "    for pk in placekeys:\n",
    "        map_df = choose_poi_and_neighbors(gdf, placekey = pk, neighbor_radius = neighbor_radius).reset_index(drop = True)\n",
    "        display(map_poi_and_neighbors(map_df, basemap = basemap))\n",
    "        input_ = input(prompt)\n",
    "        if \"quit\" in input_.lower():\n",
    "            break\n",
    "        else:\n",
    "            rating, *comment = input_.split(',')\n",
    "            comment = comment[0] if comment else ''\n",
    "\n",
    "            output_pks.append(pk)\n",
    "            ratings.append(int(rating))\n",
    "            comments.append(comment.lstrip()) # remove any leading space\n",
    "            clear_output(wait=True)\n",
    "    \n",
    "    ratings_df = pd.DataFrame({'placekey':output_pks, 'rating':ratings, 'comment':comments})\n",
    "    output = df.merge(ratings_df, on = 'placekey')\n",
    "    clear_output(wait=True)\n",
    "    \n",
    "    return output"
   ]
  },
  {
   "cell_type": "code",
   "execution_count": null,
   "id": "42839c75-6a44-4d5c-9756-f3d918ea7333",
   "metadata": {},
   "outputs": [
    {
     "data": {
      "text/html": [
       "<div style=\"width:100%;\"><div style=\"position:relative;width:100%;height:0;padding-bottom:60%;\"><span style=\"color:#565656\">Make this Notebook Trusted to load map: File -> Trust Notebook</span><iframe src=\"about:blank\" style=\"position:absolute;width:100%;height:100%;left:0;top:0;border:none !important;\" data-html=%3C%21DOCTYPE%20html%3E%0A%3Chead%3E%20%20%20%20%0A%20%20%20%20%3Cmeta%20http-equiv%3D%22content-type%22%20content%3D%22text/html%3B%20charset%3DUTF-8%22%20/%3E%0A%20%20%20%20%0A%20%20%20%20%20%20%20%20%3Cscript%3E%0A%20%20%20%20%20%20%20%20%20%20%20%20L_NO_TOUCH%20%3D%20false%3B%0A%20%20%20%20%20%20%20%20%20%20%20%20L_DISABLE_3D%20%3D%20false%3B%0A%20%20%20%20%20%20%20%20%3C/script%3E%0A%20%20%20%20%0A%20%20%20%20%3Cstyle%3Ehtml%2C%20body%20%7Bwidth%3A%20100%25%3Bheight%3A%20100%25%3Bmargin%3A%200%3Bpadding%3A%200%3B%7D%3C/style%3E%0A%20%20%20%20%3Cstyle%3E%23map%20%7Bposition%3Aabsolute%3Btop%3A0%3Bbottom%3A0%3Bright%3A0%3Bleft%3A0%3B%7D%3C/style%3E%0A%20%20%20%20%3Cscript%20src%3D%22https%3A//cdn.jsdelivr.net/npm/leaflet%401.6.0/dist/leaflet.js%22%3E%3C/script%3E%0A%20%20%20%20%3Cscript%20src%3D%22https%3A//code.jquery.com/jquery-1.12.4.min.js%22%3E%3C/script%3E%0A%20%20%20%20%3Cscript%20src%3D%22https%3A//maxcdn.bootstrapcdn.com/bootstrap/3.2.0/js/bootstrap.min.js%22%3E%3C/script%3E%0A%20%20%20%20%3Cscript%20src%3D%22https%3A//cdnjs.cloudflare.com/ajax/libs/Leaflet.awesome-markers/2.0.2/leaflet.awesome-markers.js%22%3E%3C/script%3E%0A%20%20%20%20%3Clink%20rel%3D%22stylesheet%22%20href%3D%22https%3A//cdn.jsdelivr.net/npm/leaflet%401.6.0/dist/leaflet.css%22/%3E%0A%20%20%20%20%3Clink%20rel%3D%22stylesheet%22%20href%3D%22https%3A//maxcdn.bootstrapcdn.com/bootstrap/3.2.0/css/bootstrap.min.css%22/%3E%0A%20%20%20%20%3Clink%20rel%3D%22stylesheet%22%20href%3D%22https%3A//maxcdn.bootstrapcdn.com/bootstrap/3.2.0/css/bootstrap-theme.min.css%22/%3E%0A%20%20%20%20%3Clink%20rel%3D%22stylesheet%22%20href%3D%22https%3A//maxcdn.bootstrapcdn.com/font-awesome/4.6.3/css/font-awesome.min.css%22/%3E%0A%20%20%20%20%3Clink%20rel%3D%22stylesheet%22%20href%3D%22https%3A//cdnjs.cloudflare.com/ajax/libs/Leaflet.awesome-markers/2.0.2/leaflet.awesome-markers.css%22/%3E%0A%20%20%20%20%3Clink%20rel%3D%22stylesheet%22%20href%3D%22https%3A//cdn.jsdelivr.net/gh/python-visualization/folium/folium/templates/leaflet.awesome.rotate.min.css%22/%3E%0A%20%20%20%20%0A%20%20%20%20%20%20%20%20%20%20%20%20%3Cmeta%20name%3D%22viewport%22%20content%3D%22width%3Ddevice-width%2C%0A%20%20%20%20%20%20%20%20%20%20%20%20%20%20%20%20initial-scale%3D1.0%2C%20maximum-scale%3D1.0%2C%20user-scalable%3Dno%22%20/%3E%0A%20%20%20%20%20%20%20%20%20%20%20%20%3Cstyle%3E%0A%20%20%20%20%20%20%20%20%20%20%20%20%20%20%20%20%23map_9f6db7f8ce3a48f7bf4959c3aa7b9572%20%7B%0A%20%20%20%20%20%20%20%20%20%20%20%20%20%20%20%20%20%20%20%20position%3A%20relative%3B%0A%20%20%20%20%20%20%20%20%20%20%20%20%20%20%20%20%20%20%20%20width%3A%20100.0%25%3B%0A%20%20%20%20%20%20%20%20%20%20%20%20%20%20%20%20%20%20%20%20height%3A%20100.0%25%3B%0A%20%20%20%20%20%20%20%20%20%20%20%20%20%20%20%20%20%20%20%20left%3A%200.0%25%3B%0A%20%20%20%20%20%20%20%20%20%20%20%20%20%20%20%20%20%20%20%20top%3A%200.0%25%3B%0A%20%20%20%20%20%20%20%20%20%20%20%20%20%20%20%20%7D%0A%20%20%20%20%20%20%20%20%20%20%20%20%3C/style%3E%0A%20%20%20%20%20%20%20%20%0A%20%20%20%20%0A%20%20%20%20%20%20%20%20%20%20%20%20%20%20%20%20%20%20%20%20%3Cstyle%3E%0A%20%20%20%20%20%20%20%20%20%20%20%20%20%20%20%20%20%20%20%20%20%20%20%20.foliumtooltip%20%7B%0A%20%20%20%20%20%20%20%20%20%20%20%20%20%20%20%20%20%20%20%20%20%20%20%20%20%20%20%20%0A%20%20%20%20%20%20%20%20%20%20%20%20%20%20%20%20%20%20%20%20%20%20%20%20%7D%0A%20%20%20%20%20%20%20%20%20%20%20%20%20%20%20%20%20%20%20%20%20%20%20.foliumtooltip%20table%7B%0A%20%20%20%20%20%20%20%20%20%20%20%20%20%20%20%20%20%20%20%20%20%20%20%20%20%20%20%20margin%3A%20auto%3B%0A%20%20%20%20%20%20%20%20%20%20%20%20%20%20%20%20%20%20%20%20%20%20%20%20%7D%0A%20%20%20%20%20%20%20%20%20%20%20%20%20%20%20%20%20%20%20%20%20%20%20%20.foliumtooltip%20tr%7B%0A%20%20%20%20%20%20%20%20%20%20%20%20%20%20%20%20%20%20%20%20%20%20%20%20%20%20%20%20text-align%3A%20left%3B%0A%20%20%20%20%20%20%20%20%20%20%20%20%20%20%20%20%20%20%20%20%20%20%20%20%7D%0A%20%20%20%20%20%20%20%20%20%20%20%20%20%20%20%20%20%20%20%20%20%20%20%20.foliumtooltip%20th%7B%0A%20%20%20%20%20%20%20%20%20%20%20%20%20%20%20%20%20%20%20%20%20%20%20%20%20%20%20%20padding%3A%202px%3B%20padding-right%3A%208px%3B%0A%20%20%20%20%20%20%20%20%20%20%20%20%20%20%20%20%20%20%20%20%20%20%20%20%7D%0A%20%20%20%20%20%20%20%20%20%20%20%20%20%20%20%20%20%20%20%20%3C/style%3E%0A%20%20%20%20%20%20%20%20%20%20%20%20%0A%3C/head%3E%0A%3Cbody%3E%20%20%20%20%0A%20%20%20%20%0A%20%20%20%20%20%20%20%20%20%20%20%20%3Cdiv%20class%3D%22folium-map%22%20id%3D%22map_9f6db7f8ce3a48f7bf4959c3aa7b9572%22%20%3E%3C/div%3E%0A%20%20%20%20%20%20%20%20%0A%3C/body%3E%0A%3Cscript%3E%20%20%20%20%0A%20%20%20%20%0A%20%20%20%20%20%20%20%20%20%20%20%20var%20map_9f6db7f8ce3a48f7bf4959c3aa7b9572%20%3D%20L.map%28%0A%20%20%20%20%20%20%20%20%20%20%20%20%20%20%20%20%22map_9f6db7f8ce3a48f7bf4959c3aa7b9572%22%2C%0A%20%20%20%20%20%20%20%20%20%20%20%20%20%20%20%20%7B%0A%20%20%20%20%20%20%20%20%20%20%20%20%20%20%20%20%20%20%20%20center%3A%20%5B38.905016%2C%20-104.821872%5D%2C%0A%20%20%20%20%20%20%20%20%20%20%20%20%20%20%20%20%20%20%20%20crs%3A%20L.CRS.EPSG3857%2C%0A%20%20%20%20%20%20%20%20%20%20%20%20%20%20%20%20%20%20%20%20zoom%3A%2019%2C%0A%20%20%20%20%20%20%20%20%20%20%20%20%20%20%20%20%20%20%20%20zoomControl%3A%20true%2C%0A%20%20%20%20%20%20%20%20%20%20%20%20%20%20%20%20%20%20%20%20preferCanvas%3A%20false%2C%0A%20%20%20%20%20%20%20%20%20%20%20%20%20%20%20%20%7D%0A%20%20%20%20%20%20%20%20%20%20%20%20%29%3B%0A%0A%20%20%20%20%20%20%20%20%20%20%20%20%0A%0A%20%20%20%20%20%20%20%20%0A%20%20%20%20%0A%20%20%20%20%20%20%20%20%20%20%20%20var%20tile_layer_8f93aa43cc914957a6e5dc758fdd5f31%20%3D%20L.tileLayer%28%0A%20%20%20%20%20%20%20%20%20%20%20%20%20%20%20%20%22https%3A//%7Bs%7D.tile.openstreetmap.org/%7Bz%7D/%7Bx%7D/%7By%7D.png%22%2C%0A%20%20%20%20%20%20%20%20%20%20%20%20%20%20%20%20%7B%22attribution%22%3A%20%22Data%20by%20%5Cu0026copy%3B%20%5Cu003ca%20href%3D%5C%22http%3A//openstreetmap.org%5C%22%5Cu003eOpenStreetMap%5Cu003c/a%5Cu003e%2C%20under%20%5Cu003ca%20href%3D%5C%22http%3A//www.openstreetmap.org/copyright%5C%22%5Cu003eODbL%5Cu003c/a%5Cu003e.%22%2C%20%22detectRetina%22%3A%20false%2C%20%22maxNativeZoom%22%3A%2018%2C%20%22maxZoom%22%3A%2018%2C%20%22minZoom%22%3A%200%2C%20%22noWrap%22%3A%20false%2C%20%22opacity%22%3A%201%2C%20%22subdomains%22%3A%20%22abc%22%2C%20%22tms%22%3A%20false%7D%0A%20%20%20%20%20%20%20%20%20%20%20%20%29.addTo%28map_9f6db7f8ce3a48f7bf4959c3aa7b9572%29%3B%0A%20%20%20%20%20%20%20%20%0A%20%20%20%20%0A%20%20%20%20%20%20%20%20function%20geo_json_f08eb2f5fcb64e6ba77371740b539383_styler%28feature%29%20%7B%0A%20%20%20%20%20%20%20%20%20%20%20%20switch%28feature.id%29%20%7B%0A%20%20%20%20%20%20%20%20%20%20%20%20%20%20%20%20default%3A%0A%20%20%20%20%20%20%20%20%20%20%20%20%20%20%20%20%20%20%20%20return%20%7B%22color%22%3A%20%22red%22%2C%20%22fillOpacity%22%3A%200.7%2C%20%22weight%22%3A%200%7D%3B%0A%20%20%20%20%20%20%20%20%20%20%20%20%7D%0A%20%20%20%20%20%20%20%20%7D%0A%0A%20%20%20%20%20%20%20%20function%20geo_json_f08eb2f5fcb64e6ba77371740b539383_onEachFeature%28feature%2C%20layer%29%20%7B%0A%20%20%20%20%20%20%20%20%20%20%20%20layer.on%28%7B%0A%20%20%20%20%20%20%20%20%20%20%20%20%7D%29%3B%0A%20%20%20%20%20%20%20%20%7D%3B%0A%20%20%20%20%20%20%20%20var%20geo_json_f08eb2f5fcb64e6ba77371740b539383%20%3D%20L.geoJson%28null%2C%20%7B%0A%20%20%20%20%20%20%20%20%20%20%20%20%20%20%20%20onEachFeature%3A%20geo_json_f08eb2f5fcb64e6ba77371740b539383_onEachFeature%2C%0A%20%20%20%20%20%20%20%20%20%20%20%20%0A%20%20%20%20%20%20%20%20%20%20%20%20%20%20%20%20style%3A%20geo_json_f08eb2f5fcb64e6ba77371740b539383_styler%2C%0A%20%20%20%20%20%20%20%20%7D%29%3B%0A%0A%20%20%20%20%20%20%20%20function%20geo_json_f08eb2f5fcb64e6ba77371740b539383_add%20%28data%29%20%7B%0A%20%20%20%20%20%20%20%20%20%20%20%20geo_json_f08eb2f5fcb64e6ba77371740b539383%0A%20%20%20%20%20%20%20%20%20%20%20%20%20%20%20%20.addData%28data%29%0A%20%20%20%20%20%20%20%20%20%20%20%20%20%20%20%20.addTo%28map_9f6db7f8ce3a48f7bf4959c3aa7b9572%29%3B%0A%20%20%20%20%20%20%20%20%7D%0A%20%20%20%20%20%20%20%20%20%20%20%20geo_json_f08eb2f5fcb64e6ba77371740b539383_add%28%7B%22bbox%22%3A%20%5B-104.82289546888751%2C%2038.904453264128854%2C%20-104.8214524404375%2C%2038.905874687490424%5D%2C%20%22features%22%3A%20%5B%7B%22bbox%22%3A%20%5B-104.82289546888751%2C%2038.904453264128854%2C%20-104.8214524404375%2C%2038.905874687490424%5D%2C%20%22geometry%22%3A%20%7B%22coordinates%22%3A%20%5B%5B%5B-104.82289546888751%2C%2038.905778674473844%5D%2C%20%5B-104.82201838653964%2C%2038.905874687490424%5D%2C%20%5B-104.8219942466585%2C%2038.90570979549067%5D%2C%20%5B-104.82172602575702%2C%2038.90573692964352%5D%2C%20%5B-104.82162946623248%2C%2038.90514623766353%5D%2C%20%5B-104.82149803799075%2C%2038.905156673960256%5D%2C%20%5B-104.8214524404375%2C%2038.90488532974711%5D%2C%20%5B-104.82159191530627%2C%2038.90486863160781%5D%2C%20%5B-104.82156777542514%2C%2038.90473504635205%5D%2C%20%5B-104.82148730915469%2C%2038.9046766027236%5D%2C%20%5B-104.82158118647021%2C%2038.904601460844916%5D%2C%20%5B-104.8216509239046%2C%2038.90465155543954%5D%2C%20%5B-104.82167506378573%2C%2038.904626508146656%5D%2C%20%5B-104.82173675459308%2C%2038.90462442087185%5D%2C%20%5B-104.82171797912997%2C%2038.90451379521926%5D%2C%20%5B-104.82232684057635%2C%2038.904453264128854%5D%2C%20%5B-104.82235098045749%2C%2038.90457015170531%5D%2C%20%5B-104.82269698542041%2C%2038.90452423160895%5D%2C%20%5B-104.82289546888751%2C%2038.905778674473844%5D%5D%5D%2C%20%22type%22%3A%20%22Polygon%22%7D%2C%20%22id%22%3A%20%220%22%2C%20%22properties%22%3A%20%7B%22POI%22%3A%20%22Target%22%2C%20%22enclosed%22%3A%20false%2C%20%22includes_parking_lot%22%3A%20false%2C%20%22is_synthetic%22%3A%20false%2C%20%22location_names%22%3A%20%5B%22Costco%22%5D%2C%20%22location_names_sample%22%3A%20%5B%22Costco%22%5D%2C%20%22polygon_class%22%3A%20%22OWNED_POLYGON%22%2C%20%22polygon_wkt%22%3A%20%22POLYGON%20%28%28-104.82289546888751%2038.905778674473844%2C%20-104.82201838653964%2038.905874687490424%2C%20-104.8219942466585%2038.90570979549067%2C%20-104.82172602575702%2038.90573692964352%2C%20-104.82162946623248%2038.90514623766353%2C%20-104.82149803799075%2038.905156673960256%2C%20-104.8214524404375%2038.90488532974711%2C%20-104.82159191530627%2038.90486863160781%2C%20-104.82156777542514%2038.90473504635205%2C%20-104.82148730915469%2038.9046766027236%2C%20-104.82158118647021%2038.904601460844916%2C%20-104.8216509239046%2038.90465155543954%2C%20-104.82167506378573%2038.904626508146656%2C%20-104.82173675459308%2038.90462442087185%2C%20-104.82171797912997%2038.90451379521926%2C%20-104.82232684057635%2038.904453264128854%2C%20-104.82235098045749%2038.90457015170531%2C%20-104.82269698542041%2038.90452423160895%2C%20-104.82289546888751%2038.905778674473844%29%29%22%2C%20%22total_POI_count%22%3A%201%7D%2C%20%22type%22%3A%20%22Feature%22%7D%5D%2C%20%22type%22%3A%20%22FeatureCollection%22%7D%29%3B%0A%0A%20%20%20%20%20%20%20%20%0A%20%20%20%20%0A%20%20%20%20geo_json_f08eb2f5fcb64e6ba77371740b539383.bindTooltip%28%0A%20%20%20%20function%28layer%29%7B%0A%20%20%20%20let%20div%20%3D%20L.DomUtil.create%28%27div%27%29%3B%0A%20%20%20%20%0A%20%20%20%20let%20handleObject%20%3D%20feature%3D%3Etypeof%28feature%29%3D%3D%27object%27%20%3F%20JSON.stringify%28feature%29%20%3A%20feature%3B%0A%20%20%20%20let%20fields%20%3D%20%5B%22total_POI_count%22%2C%20%22location_names_sample%22%2C%20%22is_synthetic%22%2C%20%22polygon_class%22%2C%20%22enclosed%22%2C%20%22includes_parking_lot%22%5D%3B%0A%20%20%20%20let%20aliases%20%3D%20%5B%22total_POI_count%22%2C%20%22location_names_sample%22%2C%20%22is_synthetic%22%2C%20%22polygon_class%22%2C%20%22enclosed%22%2C%20%22includes_parking_lot%22%5D%3B%0A%20%20%20%20let%20table%20%3D%20%27%3Ctable%3E%27%20%2B%0A%20%20%20%20%20%20%20%20String%28%0A%20%20%20%20%20%20%20%20fields.map%28%0A%20%20%20%20%20%20%20%20%28v%2Ci%29%3D%3E%0A%20%20%20%20%20%20%20%20%60%3Ctr%3E%0A%20%20%20%20%20%20%20%20%20%20%20%20%3Cth%3E%24%7Baliases%5Bi%5D%7D%3C/th%3E%0A%20%20%20%20%20%20%20%20%20%20%20%20%0A%20%20%20%20%20%20%20%20%20%20%20%20%3Ctd%3E%24%7BhandleObject%28layer.feature.properties%5Bv%5D%29%7D%3C/td%3E%0A%20%20%20%20%20%20%20%20%3C/tr%3E%60%29.join%28%27%27%29%29%0A%20%20%20%20%2B%27%3C/table%3E%27%3B%0A%20%20%20%20div.innerHTML%3Dtable%3B%0A%20%20%20%20%0A%20%20%20%20return%20div%0A%20%20%20%20%7D%0A%20%20%20%20%2C%7B%22className%22%3A%20%22foliumtooltip%22%2C%20%22sticky%22%3A%20true%7D%29%3B%0A%20%20%20%20%20%20%20%20%20%20%20%20%20%20%20%20%20%20%20%20%20%0A%3C/script%3E onload=\"this.contentDocument.open();this.contentDocument.write(    decodeURIComponent(this.getAttribute('data-html')));this.contentDocument.close();\" allowfullscreen webkitallowfullscreen mozallowfullscreen></iframe></div></div>"
      ],
      "text/plain": [
       "<folium.folium.Map at 0x7fad61380ee0>"
      ]
     },
     "metadata": {},
     "output_type": "display_data"
    }
   ],
   "source": [
    "reviewed_df = verify_POI_geometry(sample, basemap = 'osm')"
   ]
  },
  {
   "cell_type": "code",
   "execution_count": null,
   "id": "336db7ff-f73c-40b0-8fea-e525fdb040bf",
   "metadata": {},
   "outputs": [],
   "source": [
    "# supply a dataframe of Shop data\n",
    "# get the most recent geometry for each POI\n",
    "# choose a POI\n",
    "# find its neighbors within a radius\n",
    "# plot the POI and its neighbors on a basemap\n",
    "# prompt user for score and comment\n",
    "# return df of examined POI with scores and comments"
   ]
  }
 ],
 "metadata": {
  "kernelspec": {
   "display_name": "Python 3 (ipykernel)",
   "language": "python",
   "name": "python3"
  },
  "language_info": {
   "codemirror_mode": {
    "name": "ipython",
    "version": 3
   },
   "file_extension": ".py",
   "mimetype": "text/x-python",
   "name": "python",
   "nbconvert_exporter": "python",
   "pygments_lexer": "ipython3",
   "version": "3.9.7"
  }
 },
 "nbformat": 4,
 "nbformat_minor": 5
}
