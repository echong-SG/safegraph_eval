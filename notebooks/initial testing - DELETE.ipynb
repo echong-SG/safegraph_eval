{
 "cells": [
  {
   "cell_type": "code",
   "execution_count": 1,
   "id": "a3e8d8bd-6871-44eb-865f-a4c3628d1d47",
   "metadata": {},
   "outputs": [],
   "source": [
    "import safegraph_eval as eval_"
   ]
  },
  {
   "cell_type": "code",
   "execution_count": 2,
   "id": "4a11ad4b-6e65-4126-8d49-30782c5a8fe9",
   "metadata": {},
   "outputs": [],
   "source": [
    "from safegraph_eval import *"
   ]
  },
  {
   "cell_type": "code",
   "execution_count": 5,
   "id": "df8cc001-27cd-4bae-a326-c145f405f44c",
   "metadata": {},
   "outputs": [
    {
     "data": {
      "text/plain": [
       "4"
      ]
     },
     "execution_count": 5,
     "metadata": {},
     "output_type": "execute_result"
    }
   ],
   "source": [
    "ingest.add_one(3)"
   ]
  },
  {
   "cell_type": "code",
   "execution_count": 1,
   "id": "63d35b45-9e96-406c-9471-5732c37a90fd",
   "metadata": {},
   "outputs": [],
   "source": [
    "import pandas as pd"
   ]
  },
  {
   "cell_type": "code",
   "execution_count": 2,
   "id": "021e69bd-07c9-44b8-a4a5-7ab5947830bd",
   "metadata": {},
   "outputs": [
    {
     "data": {
      "text/plain": [
       "'1.3.4'"
      ]
     },
     "execution_count": 2,
     "metadata": {},
     "output_type": "execute_result"
    }
   ],
   "source": [
    "pd.__version__"
   ]
  },
  {
   "cell_type": "code",
   "execution_count": null,
   "id": "401cb5b0-235b-4bbd-82af-93ecb49538cd",
   "metadata": {},
   "outputs": [],
   "source": []
  }
 ],
 "metadata": {
  "kernelspec": {
   "display_name": "Python 3 (ipykernel)",
   "language": "python",
   "name": "python3"
  },
  "language_info": {
   "codemirror_mode": {
    "name": "ipython",
    "version": 3
   },
   "file_extension": ".py",
   "mimetype": "text/x-python",
   "name": "python",
   "nbconvert_exporter": "python",
   "pygments_lexer": "ipython3",
   "version": "3.9.7"
  }
 },
 "nbformat": 4,
 "nbformat_minor": 5
}
